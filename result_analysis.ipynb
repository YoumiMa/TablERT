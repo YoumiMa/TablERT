{
 "cells": [
  {
   "cell_type": "code",
   "execution_count": 1,
   "metadata": {},
   "outputs": [],
   "source": [
    "\n",
    "import csv\n",
    "import os\n",
    "import random"
   ]
  },
  {
   "cell_type": "code",
   "execution_count": 34,
   "metadata": {},
   "outputs": [],
   "source": [
    "def parse_result(dir_, num_samples):\n",
    "    \n",
    "    data_lst = os.listdir(dir_)\n",
    "    data_lst = [d for d in data_lst if not d.startswith('.')]\n",
    "    sampled = random.sample(data_lst, num_samples)\n",
    "\n",
    "    print(sampled)\n",
    "    results = []\n",
    "    for s in sampled:\n",
    "        with open(dir_ + s + '/eval_valid.csv') as f:\n",
    "            reader = csv.reader(f)\n",
    "            lst = []\n",
    "            for row in reader:\n",
    "                lst.append(row[0].split(';'))\n",
    "            if not results:\n",
    "                results.append(lst[0])\n",
    "            results.append(lst[-1])\n",
    "    return list(zip(*results))"
   ]
  },
  {
   "cell_type": "code",
   "execution_count": 55,
   "metadata": {},
   "outputs": [],
   "source": [
    "def take_average(results):\n",
    "    avr_all = {}\n",
    "    for r in results:\n",
    "#         print(r)\n",
    "        if r[0] != 'loss':\n",
    "            avr = 0\n",
    "            for i in r[1:]:\n",
    "                avr += float(i)\n",
    "            avr /= len(r[1:])\n",
    "            avr_all[r[0]] = avr\n",
    "    return avr_all"
   ]
  },
  {
   "cell_type": "code",
   "execution_count": 56,
   "metadata": {},
   "outputs": [],
   "source": [
    "\n",
    "def write_csv(file, save_dict):\n",
    "    save_row = {}\n",
    "\n",
    "    with open(file,'w') as f:\n",
    "        writer = csv.DictWriter(f, fieldnames=save_dict.keys(),delimiter=\",\",quotechar='\"')\n",
    "        writer.writeheader()\n",
    "\n",
    "        for k, vs in save_dict.items():\n",
    "            save_row[k] = vs\n",
    "            \n",
    "        writer.writerow(save_row)"
   ]
  },
  {
   "cell_type": "code",
   "execution_count": 177,
   "metadata": {},
   "outputs": [
    {
     "name": "stdout",
     "output_type": "stream",
     "text": [
      "['2020-09-16_12:51:22.218767', '2020-09-16_15:02:06.886986', '2020-09-16_15:02:00.974837']\n"
     ]
    }
   ],
   "source": [
    "\n",
    "results = parse_result('data/log/ace05_tf/', 3)\n",
    "# print(\"results:\",results)\n",
    "average = take_average(results)"
   ]
  },
  {
   "cell_type": "code",
   "execution_count": 178,
   "metadata": {},
   "outputs": [
    {
     "data": {
      "text/plain": [
       "{'ner_prec_micro': 87.27133405188538,\n",
       " 'ner_rec_micro': 87.7282688093499,\n",
       " 'ner_f1_micro': 87.4991614519913,\n",
       " 'ner_prec_macro': 81.29529207506528,\n",
       " 'ner_rec_macro': 80.95774135409869,\n",
       " 'ner_f1_macro': 81.05254852593491,\n",
       " 'rel_prec_micro': 68.47423563405454,\n",
       " 'rel_rec_micro': 60.55603822762814,\n",
       " 'rel_f1_micro': 64.26921740137533,\n",
       " 'rel_prec_macro': 67.1550680502749,\n",
       " 'rel_rec_macro': 58.41743554170866,\n",
       " 'rel_f1_macro': 62.20912346527578,\n",
       " 'rel_ner_prec_micro': 64.97327617255866,\n",
       " 'rel_ner_rec_micro': 57.45728352157544,\n",
       " 'rel_ner_f1_micro': 60.98176477564312,\n",
       " 'rel_ner_prec_macro': 63.721530275241854,\n",
       " 'rel_ner_rec_macro': 55.589250955482555,\n",
       " 'rel_ner_f1_macro': 59.1210516681356}"
      ]
     },
     "execution_count": 178,
     "metadata": {},
     "output_type": "execute_result"
    }
   ],
   "source": [
    "average"
   ]
  },
  {
   "cell_type": "code",
   "execution_count": 137,
   "metadata": {},
   "outputs": [
    {
     "data": {
      "text/plain": [
       "{'ner_prec_micro': 89.2007426353392,\n",
       " 'ner_rec_micro': 90.76923076923077,\n",
       " 'ner_f1_micro': 89.97723243428545,\n",
       " 'ner_prec_macro': 86.61513119279884,\n",
       " 'ner_rec_macro': 87.12747449823402,\n",
       " 'ner_f1_macro': 86.73628607335462,\n",
       " 'rel_prec_micro': 72.42827492177935,\n",
       " 'rel_rec_micro': 70.61611374407582,\n",
       " 'rel_f1_micro': 71.49138568477576,\n",
       " 'rel_prec_macro': 74.01941592791349,\n",
       " 'rel_rec_macro': 72.11008585293021,\n",
       " 'rel_f1_macro': 72.87033534127404,\n",
       " 'rel_ner_prec_micro': 72.3791348726393,\n",
       " 'rel_ner_rec_micro': 70.56872037914692,\n",
       " 'rel_ner_f1_micro': 71.44313478007129,\n",
       " 'rel_ner_prec_macro': 73.96878301652109,\n",
       " 'rel_ner_rec_macro': 72.05745427398283,\n",
       " 'rel_ner_f1_macro': 72.81872243804824}"
      ]
     },
     "execution_count": 137,
     "metadata": {},
     "output_type": "execute_result"
    }
   ],
   "source": [
    "average"
   ]
  },
  {
   "cell_type": "code",
   "execution_count": null,
   "metadata": {},
   "outputs": [],
   "source": []
  }
 ],
 "metadata": {
  "kernelspec": {
   "display_name": "Python 3",
   "language": "python",
   "name": "python3"
  },
  "language_info": {
   "codemirror_mode": {
    "name": "ipython",
    "version": 3
   },
   "file_extension": ".py",
   "mimetype": "text/x-python",
   "name": "python",
   "nbconvert_exporter": "python",
   "pygments_lexer": "ipython3",
   "version": "3.6.5"
  }
 },
 "nbformat": 4,
 "nbformat_minor": 4
}
