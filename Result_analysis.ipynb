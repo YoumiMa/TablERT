{
 "cells": [
  {
   "cell_type": "code",
   "execution_count": 2,
   "metadata": {},
   "outputs": [],
   "source": [
    "import csv\n",
    "import os\n",
    "import random"
   ]
  },
  {
   "cell_type": "code",
   "execution_count": 3,
   "metadata": {},
   "outputs": [],
   "source": [
    "def parse_result(dir_, num_samples):\n",
    "    \n",
    "    data_lst = os.listdir(dir_)\n",
    "    data_lst = [d for d in data_lst if not d.startswith('.')]\n",
    "    sampled = random.sample(data_lst, num_samples)\n",
    "\n",
    "    print(sampled)\n",
    "    results = []\n",
    "    for s in sampled:\n",
    "        with open(dir_ + s + '/eval_valid.csv') as f:\n",
    "            reader = csv.reader(f)\n",
    "            lst = []\n",
    "            for row in reader:\n",
    "                lst.append(row[0].split(';'))\n",
    "            if not results:\n",
    "                results.append(lst[0])\n",
    "            results.append(lst[-1])\n",
    "    return list(zip(*results))"
   ]
  },
  {
   "cell_type": "code",
   "execution_count": 4,
   "metadata": {},
   "outputs": [],
   "source": [
    "from functools import reduce\n",
    "\n",
    "def take_average(results):\n",
    "    avr_all = {}\n",
    "    for r in results:\n",
    "        print(r)\n",
    "        if r[0] != 'loss':\n",
    "            avr = 0\n",
    "            for i in r[1:]:\n",
    "                avr += float(i)\n",
    "            avr /= len(r[1:])\n",
    "            avr_all[r[0]] = avr\n",
    "    return avr_all"
   ]
  },
  {
   "cell_type": "code",
   "execution_count": 5,
   "metadata": {},
   "outputs": [],
   "source": [
    "def write_csv(file, save_dict):\n",
    "    save_row = {}\n",
    "\n",
    "    with open(file,'w') as f:\n",
    "        writer = csv.DictWriter(f, fieldnames=save_dict.keys(),delimiter=\",\",quotechar='\"')\n",
    "        writer.writeheader()\n",
    "\n",
    "        for k, vs in save_dict.items():\n",
    "            save_row[k] = vs\n",
    "\n",
    "        writer.writerow(save_row)"
   ]
  },
  {
   "cell_type": "code",
   "execution_count": null,
   "metadata": {},
   "outputs": [],
   "source": []
  },
  {
   "cell_type": "code",
   "execution_count": 11,
   "metadata": {},
   "outputs": [
    {
     "name": "stdout",
     "output_type": "stream",
     "text": [
      "['2020-03-22_23:53:30.832739', '2020-03-23_00:29:07.924857', '2020-03-23_00:08:49.854461', '2020-03-23_00:24:13.630498', '2020-03-22_23:38:13.650578']\n",
      "('ner_prec_micro', '89.32842686292548', '88.88888888888889', '88.73751135331517', '89.25318761384335', '90.25735294117648')\n",
      "('ner_rec_micro', '89.99073215940686', '90.45412418906395', '90.54680259499537', '90.82483781278961', '91.01019462465246')\n",
      "('ner_f1_micro', '89.6583564173592', '89.664676159853', '89.63302752293578', '90.032154340836', '90.63221042916474')\n",
      "('ner_prec_macro', '86.5107600472262', '86.19025410322836', '85.64906969170764', '87.1686199719025', '88.19435880208299')\n",
      "('ner_rec_macro', '86.73715143954152', '87.03589880472546', '86.72922114516948', '87.12734263452737', '87.5055833356576')\n",
      "('ner_f1_macro', '86.57539912405461', '86.53481926004444', '86.11808078374811', '86.9808673740224', '87.64342768489175')\n",
      "('rel_prec_micro', '74.68671679197995', '72.0873786407767', '71.46282973621103', '71.12676056338029', '74.6268656716418')\n",
      "('rel_rec_micro', '70.61611374407583', '70.37914691943128', '70.61611374407583', '71.80094786729858', '71.09004739336493')\n",
      "('rel_f1_micro', '72.59439707673569', '71.22302158273382', '71.03694874851013', '71.4622641509434', '72.81553398058253')\n",
      "('rel_prec_macro', '76.28707021981735', '73.91111404318951', '72.96305332286148', '72.93796960817022', '76.31428967108579')\n",
      "('rel_rec_macro', '72.12738228550097', '71.65145843331734', '71.86422439076414', '73.26813843118435', '73.07766224070815')\n",
      "('rel_f1_macro', '74.00224185232214', '72.62343222961634', '72.33681521386713', '72.99767226378373', '74.47850198235308')\n",
      "('rel_ner_prec_micro', '74.18546365914787', '71.84466019417476', '71.46282973621103', '70.65727699530517', '74.6268656716418')\n",
      "('rel_ner_rec_micro', '70.14218009478674', '70.14218009478674', '70.61611374407583', '71.32701421800948', '71.09004739336493')\n",
      "('rel_ner_f1_micro', '72.10718635809987', '70.98321342925661', '71.03694874851013', '70.99056603773585', '72.81553398058253')\n",
      "('rel_ner_prec_macro', '75.82973756779896', '73.66111404318951', '72.96305332286148', '72.5129584822245', '76.31428967108579')\n",
      "('rel_ner_rec_macro', '71.67374820028796', '71.3883005385805', '71.86422439076414', '72.8049805364475', '73.07766224070815')\n",
      "('rel_ner_f1_macro', '73.5467762652776', '72.36702197320609', '72.33681521386713', '72.55443554880789', '74.47850198235308')\n",
      "('loss', '[1]', '[1]', '[1]', '[1]', '[1]')\n",
      "('epoch', '29', '29', '29', '29', '29')\n",
      "('iteration', '0', '0', '0', '0', '0')\n",
      "('global_iteration', '4176', '4176', '4176', '4176', '4176')\n"
     ]
    }
   ],
   "source": [
    "results = parse_result('data/log/conll04_tf_pooled/', 5)\n",
    "# print(\"results:\",results)\n",
    "average = take_average(results)\n"
   ]
  },
  {
   "cell_type": "code",
   "execution_count": 12,
   "metadata": {},
   "outputs": [],
   "source": [
    "write_csv('conll04_pooled.csv', average)"
   ]
  },
  {
   "cell_type": "code",
   "execution_count": null,
   "metadata": {},
   "outputs": [],
   "source": []
  },
  {
   "cell_type": "code",
   "execution_count": null,
   "metadata": {},
   "outputs": [],
   "source": []
  }
 ],
 "metadata": {
  "kernelspec": {
   "display_name": "Python 3",
   "language": "python",
   "name": "python3"
  },
  "language_info": {
   "codemirror_mode": {
    "name": "ipython",
    "version": 3
   },
   "file_extension": ".py",
   "mimetype": "text/x-python",
   "name": "python",
   "nbconvert_exporter": "python",
   "pygments_lexer": "ipython3",
   "version": "3.6.5"
  }
 },
 "nbformat": 4,
 "nbformat_minor": 2
}
