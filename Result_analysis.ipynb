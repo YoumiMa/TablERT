{
 "cells": [
  {
   "cell_type": "code",
   "execution_count": 1,
   "metadata": {},
   "outputs": [],
   "source": [
    "import csv\n",
    "import os\n",
    "import random"
   ]
  },
  {
   "cell_type": "code",
   "execution_count": 22,
   "metadata": {},
   "outputs": [],
   "source": [
    "def parse_result(dir_, num_samples):\n",
    "    \n",
    "    data_lst = os.listdir(dir_)\n",
    "    data_lst = [d for d in data_lst if not d.startswith('.')]\n",
    "    sampled = random.sample(data_lst, num_samples)\n",
    "\n",
    "    print(sampled)\n",
    "    results = []\n",
    "    for s in sampled:\n",
    "        with open(dir_ + s + '/eval_valid.csv') as f:\n",
    "            reader = csv.reader(f)\n",
    "            lst = []\n",
    "            for row in reader:\n",
    "                lst.append(row[0].split(';'))\n",
    "\n",
    "            if results:\n",
    "                results.append(lst[1])\n",
    "            else:\n",
    "                results.extend(lst)\n",
    "    return list(zip(*results))"
   ]
  },
  {
   "cell_type": "code",
   "execution_count": 3,
   "metadata": {},
   "outputs": [],
   "source": [
    "from functools import reduce\n",
    "\n",
    "def take_average(results):\n",
    "    avr_all = {}\n",
    "    for r in results:\n",
    "        avr = 0\n",
    "        for i in r[1:]:\n",
    "            avr += float(i)\n",
    "        avr /= len(r[1:])\n",
    "        avr_all[r[0]] = avr\n",
    "    return avr_all"
   ]
  },
  {
   "cell_type": "code",
   "execution_count": 4,
   "metadata": {},
   "outputs": [],
   "source": [
    "def write_csv(file, save_dict):\n",
    "    save_row = {}\n",
    "\n",
    "    with open(file,'w') as f:\n",
    "        writer = csv.DictWriter(f, fieldnames=save_dict.keys(),delimiter=\",\",quotechar='\"')\n",
    "        writer.writeheader()\n",
    "\n",
    "        for k, vs in save_dict.items():\n",
    "            save_row[k] = vs\n",
    "\n",
    "        writer.writerow(save_row)"
   ]
  },
  {
   "cell_type": "code",
   "execution_count": null,
   "metadata": {},
   "outputs": [],
   "source": []
  },
  {
   "cell_type": "code",
   "execution_count": 23,
   "metadata": {},
   "outputs": [
    {
     "name": "stdout",
     "output_type": "stream",
     "text": [
      "['2019-12-12_14:31:52.181391', '2019-12-12_15:44:13.683905', '2019-12-12_14:09:16.726187', '2019-12-12_13:47:31.010572', '2019-12-12_15:21:39.654056', '2019-12-12_13:02:26.022205', '2019-12-12_14:56:54.833781', '2019-12-12_13:24:57.195214', '2019-12-12_12:38:03.504851', '2019-12-12_12:13:05.273780']\n"
     ]
    }
   ],
   "source": [
    "results = parse_result('data/log/conll04_train_full/', 10)\n",
    "# print(results)\n",
    "average = take_average(results)\n"
   ]
  },
  {
   "cell_type": "code",
   "execution_count": 24,
   "metadata": {},
   "outputs": [],
   "source": [
    "write_csv('conll04_full.csv', average)"
   ]
  },
  {
   "cell_type": "code",
   "execution_count": null,
   "metadata": {},
   "outputs": [],
   "source": []
  },
  {
   "cell_type": "code",
   "execution_count": null,
   "metadata": {},
   "outputs": [],
   "source": []
  }
 ],
 "metadata": {
  "kernelspec": {
   "display_name": "torch",
   "language": "python",
   "name": "torch"
  },
  "language_info": {
   "codemirror_mode": {
    "name": "ipython",
    "version": 3
   },
   "file_extension": ".py",
   "mimetype": "text/x-python",
   "name": "python",
   "nbconvert_exporter": "python",
   "pygments_lexer": "ipython3",
   "version": "3.6.9"
  }
 },
 "nbformat": 4,
 "nbformat_minor": 2
}
